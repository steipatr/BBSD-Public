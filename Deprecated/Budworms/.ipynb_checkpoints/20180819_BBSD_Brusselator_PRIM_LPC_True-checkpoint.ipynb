{
 "cells": [
  {
   "cell_type": "code",
   "execution_count": 1,
   "metadata": {},
   "outputs": [
    {
     "name": "stderr",
     "output_type": "stream",
     "text": [
      "C:\\Users\\Patrick\\Anaconda3\\lib\\site-packages\\ema_workbench\\em_framework\\optimization.py:29: ImportWarning: platypus based optimization not available\n",
      "  warnings.warn(\"platypus based optimization not available\", ImportWarning)\n",
      "C:\\Users\\Patrick\\Anaconda3\\lib\\importlib\\_bootstrap.py:219: ImportWarning: can't resolve package from __spec__ or __package__, falling back on __name__ and __path__\n",
      "  return f(*args, **kwds)\n"
     ]
    }
   ],
   "source": [
    "#imports\n",
    "import numpy as np\n",
    "import scipy as sp\n",
    "import pandas as pd\n",
    "import matplotlib.pyplot as plt\n",
    "import os\n",
    "import feather\n",
    "import datetime\n",
    "\n",
    "from  ema_workbench.analysis  import prim\n",
    "from ema_workbench import (load_results, ema_logging)\n",
    "ema_logging.log_to_stderr(ema_logging.INFO)\n",
    "\n",
    "from IPython.core import display as ICD\n",
    "import mpld3\n",
    "%matplotlib notebook"
   ]
  },
  {
   "cell_type": "code",
   "execution_count": 2,
   "metadata": {},
   "outputs": [],
   "source": [
    "#load previously generated data with feather, and reshape to fit EMA expectations\n",
    "#outcomes\n",
    "x_path = r'C:\\Users\\Patrick\\Documents\\GitHub\\BBSD\\Budworms\\Data\\2018-06-25x.feather'\n",
    "df_ts = feather.read_dataframe(x_path)\n",
    "nd_ts = df_ts.values\n",
    "outcomes = {\"x\":nd_ts}\n",
    "\n",
    "#experiments\n",
    "expts_path = r'C:\\Users\\Patrick\\Documents\\GitHub\\BBSD\\Budworms\\Data\\2018-06-25Experiments.feather'\n",
    "df_expts = feather.read_dataframe(expts_path)\n",
    "\n",
    "experiments = np.empty([200,],dtype=[('r0', '<f8'), ('rstep', '<f8'), ('scenario_id', 'O'), ('policy', 'O'), ('model', 'O')])\n",
    "\n",
    "for r in range(0,experiments.shape[0]):\n",
    "    experiments[r]=(df_expts.iloc[r,0], df_expts.iloc[r,1], r, \"None\", \"StrogatzBudworms\" )\n",
    "\n",
    "#re-create results\n",
    "\n",
    "results = (experiments,outcomes)"
   ]
  },
  {
   "cell_type": "code",
   "execution_count": 3,
   "metadata": {},
   "outputs": [
    {
     "data": {
      "text/plain": [
       "array([[1.        , 1.00152326, 1.00303805, ..., 0.40977386, 0.40977386,\n",
       "        0.40977386],\n",
       "       [1.        , 1.01078212, 1.0215981 , ..., 0.27145073, 0.27144712,\n",
       "        0.27144364],\n",
       "       [1.        , 1.00631952, 1.01263261, ..., 0.23023908, 0.2302362 ,\n",
       "        0.23023342],\n",
       "       [1.        , 0.99292988, 0.98595542, ..., 0.38413426, 0.38413426,\n",
       "        0.38413426]])"
      ]
     },
     "execution_count": 3,
     "metadata": {},
     "output_type": "execute_result"
    }
   ],
   "source": [
    "#test outcomes\n",
    "outcomes[\"x\"][1:5]"
   ]
  },
  {
   "cell_type": "code",
   "execution_count": 4,
   "metadata": {},
   "outputs": [
    {
     "data": {
      "text/plain": [
       "array([(0.56913258, 0.20328204, 1, 'None', 'StrogatzBudworms'),\n",
       "       (0.65126375, 0.3914987 , 2, 'None', 'StrogatzBudworms'),\n",
       "       (0.61176335, 0.38806531, 3, 'None', 'StrogatzBudworms'),\n",
       "       (0.49228801, 0.14417623, 4, 'None', 'StrogatzBudworms')],\n",
       "      dtype=[('r0', '<f8'), ('rstep', '<f8'), ('scenario_id', 'O'), ('policy', 'O'), ('model', 'O')])"
      ]
     },
     "execution_count": 4,
     "metadata": {},
     "output_type": "execute_result"
    }
   ],
   "source": [
    "#test experiments\n",
    "experiments[1:5]"
   ]
  },
  {
   "cell_type": "code",
   "execution_count": 6,
   "metadata": {},
   "outputs": [
    {
     "data": {
      "text/html": [
       "<div>\n",
       "<style scoped>\n",
       "    .dataframe tbody tr th:only-of-type {\n",
       "        vertical-align: middle;\n",
       "    }\n",
       "\n",
       "    .dataframe tbody tr th {\n",
       "        vertical-align: top;\n",
       "    }\n",
       "\n",
       "    .dataframe thead th {\n",
       "        text-align: right;\n",
       "    }\n",
       "</style>\n",
       "<table border=\"1\" class=\"dataframe\">\n",
       "  <thead>\n",
       "    <tr style=\"text-align: right;\">\n",
       "      <th></th>\n",
       "      <th>LPC</th>\n",
       "      <th>truecl</th>\n",
       "    </tr>\n",
       "  </thead>\n",
       "  <tbody>\n",
       "    <tr>\n",
       "      <th>0</th>\n",
       "      <td>1</td>\n",
       "      <td>1</td>\n",
       "    </tr>\n",
       "    <tr>\n",
       "      <th>1</th>\n",
       "      <td>2</td>\n",
       "      <td>2</td>\n",
       "    </tr>\n",
       "    <tr>\n",
       "      <th>2</th>\n",
       "      <td>1</td>\n",
       "      <td>2</td>\n",
       "    </tr>\n",
       "    <tr>\n",
       "      <th>3</th>\n",
       "      <td>1</td>\n",
       "      <td>2</td>\n",
       "    </tr>\n",
       "    <tr>\n",
       "      <th>4</th>\n",
       "      <td>3</td>\n",
       "      <td>1</td>\n",
       "    </tr>\n",
       "  </tbody>\n",
       "</table>\n",
       "</div>"
      ],
      "text/plain": [
       "   LPC  truecl\n",
       "0    1       1\n",
       "1    2       2\n",
       "2    1       2\n",
       "3    1       2\n",
       "4    3       1"
      ]
     },
     "execution_count": 6,
     "metadata": {},
     "output_type": "execute_result"
    }
   ],
   "source": [
    "#import clustering solutions from R via Feather\n",
    "clsol_path = r'C:\\Users\\Patrick\\Documents\\GitHub\\BBSD\\Budworms\\Data\\2018-06-25LPC_True.feather'\n",
    "df_clsol = feather.read_dataframe(clsol_path)\n",
    "df_clsol.head()"
   ]
  },
  {
   "cell_type": "code",
   "execution_count": 8,
   "metadata": {},
   "outputs": [
    {
     "data": {
      "text/plain": [
       "1"
      ]
     },
     "execution_count": 8,
     "metadata": {},
     "output_type": "execute_result"
    }
   ],
   "source": [
    "len(df_clsol.LPC.shape)"
   ]
  },
  {
   "cell_type": "code",
   "execution_count": 9,
   "metadata": {},
   "outputs": [
    {
     "data": {
      "text/html": [
       "<div>\n",
       "<style scoped>\n",
       "    .dataframe tbody tr th:only-of-type {\n",
       "        vertical-align: middle;\n",
       "    }\n",
       "\n",
       "    .dataframe tbody tr th {\n",
       "        vertical-align: top;\n",
       "    }\n",
       "\n",
       "    .dataframe thead th {\n",
       "        text-align: right;\n",
       "    }\n",
       "</style>\n",
       "<table border=\"1\" class=\"dataframe\">\n",
       "  <thead>\n",
       "    <tr style=\"text-align: right;\">\n",
       "      <th></th>\n",
       "      <th>LPC</th>\n",
       "      <th>truecl</th>\n",
       "      <th>bin</th>\n",
       "    </tr>\n",
       "  </thead>\n",
       "  <tbody>\n",
       "    <tr>\n",
       "      <th>0</th>\n",
       "      <td>1</td>\n",
       "      <td>1</td>\n",
       "      <td>1</td>\n",
       "    </tr>\n",
       "    <tr>\n",
       "      <th>1</th>\n",
       "      <td>2</td>\n",
       "      <td>2</td>\n",
       "      <td>0</td>\n",
       "    </tr>\n",
       "    <tr>\n",
       "      <th>2</th>\n",
       "      <td>1</td>\n",
       "      <td>2</td>\n",
       "      <td>1</td>\n",
       "    </tr>\n",
       "    <tr>\n",
       "      <th>3</th>\n",
       "      <td>1</td>\n",
       "      <td>2</td>\n",
       "      <td>1</td>\n",
       "    </tr>\n",
       "    <tr>\n",
       "      <th>4</th>\n",
       "      <td>3</td>\n",
       "      <td>1</td>\n",
       "      <td>0</td>\n",
       "    </tr>\n",
       "  </tbody>\n",
       "</table>\n",
       "</div>"
      ],
      "text/plain": [
       "   LPC  truecl  bin\n",
       "0    1       1    1\n",
       "1    2       2    0\n",
       "2    1       2    1\n",
       "3    1       2    1\n",
       "4    3       1    0"
      ]
     },
     "execution_count": 9,
     "metadata": {},
     "output_type": "execute_result"
    }
   ],
   "source": [
    "#add binary column for PRIM\n",
    "coloi = \"LPC\" #column of interest\n",
    "df_clsol['bin'] = np.where(df_clsol[coloi]==1, 1, 0)\n",
    "df_clsol.head()"
   ]
  },
  {
   "cell_type": "code",
   "execution_count": 45,
   "metadata": {
    "scrolled": false
   },
   "outputs": [
    {
     "name": "stderr",
     "output_type": "stream",
     "text": [
      "[MainProcess/INFO] 200 points remaining, containing 86 cases of interest\n",
      "[MainProcess/INFO] mean: 0.5691056910569106, mass: 0.615, coverage: 0.813953488372093, density: 0.5691056910569106 restricted_dimensions: 1\n"
     ]
    },
    {
     "data": {
      "image/png": "[encoded data removed]",
      "text/plain": [
       "<matplotlib.figure.Figure at 0x159e670>"
      ]
     },
     "metadata": {},
     "output_type": "display_data"
    }
   ],
   "source": [
    "prim_alg = prim.Prim(experiments, np.where(df_clsol[\"LPC\"]==3, 1, 0), threshold=0.5)\n",
    "box1 = prim_alg.find_box()\n",
    "\n",
    "box1.show_tradeoff()\n",
    "plt.show()"
   ]
  },
  {
   "cell_type": "code",
   "execution_count": 52,
   "metadata": {},
   "outputs": [
    {
     "name": "stdout",
     "output_type": "stream",
     "text": [
      "coverage    0.813953\n",
      "density     0.569106\n",
      "mass           0.615\n",
      "mean        0.569106\n",
      "res dim            1\n",
      "Name: 9, dtype: object\n",
      "\n",
      "          box 9                                   \n",
      "            min       max                qp values\n",
      "rstep  0.100926  0.284403  [0.0013172786181866332]\n",
      "\n"
     ]
    },
    {
     "data": {
      "image/png": "[encoded data removed]",
      "text/plain": [
       "<matplotlib.figure.Figure at 0x15f9510>"
      ]
     },
     "metadata": {},
     "output_type": "display_data"
    },
    {
     "data": {
      "image/png": "[encoded data removed]",
      "text/plain": [
       "<matplotlib.figure.Figure at 0xa870fd0>"
      ]
     },
     "metadata": {},
     "output_type": "display_data"
    }
   ],
   "source": [
    "top_box = 9\n",
    "\n",
    "box1.inspect(top_box)\n",
    "box1.inspect(top_box, style='graph')\n",
    "\n",
    "box1.select(top_box)\n",
    "fig = box1.show_pairs_scatter()\n",
    "fig.set_size_inches((8,8))\n",
    "plt.show()\n",
    "plt.close()"
   ]
  },
  {
   "cell_type": "code",
   "execution_count": 53,
   "metadata": {
    "scrolled": false
   },
   "outputs": [],
   "source": [
    "# def classifyThreshold(data):\n",
    "#     ooi = 'x'\n",
    "#     result = data[ooi]\n",
    "    \n",
    "#     #make an empty array of length equal to number of cases \n",
    "#     classes = np.zeros(result.shape[0])\n",
    "    \n",
    "#     #if end value of time series is higher then 6, classify as 1 \n",
    "#     classes[result[:, -1] > 6] = 1\n",
    "    \n",
    "#     return classes\n",
    "\n",
    "\n",
    "# budworms_prim = prim.setup_prim(results, classifyThreshold,  \n",
    "#                            threshold=0.8)\n",
    "# box1 = budworms_prim.find_box() #could use box2, box3 etc to find next input subspaces. not necessary here.\n",
    "\n",
    "# box1.show_tradeoff()\n",
    "\n",
    "# plt.show()"
   ]
  },
  {
   "cell_type": "code",
   "execution_count": 61,
   "metadata": {
    "scrolled": true
   },
   "outputs": [],
   "source": [
    "# top_box = 24\n",
    "\n",
    "# box1.inspect(top_box)\n",
    "# box1.inspect(top_box, style='graph')\n",
    "\n",
    "# box1.select(top_box)\n",
    "# fig = box1.show_pairs_scatter()\n",
    "# fig.set_size_inches((8,8))\n",
    "# plt.show()\n",
    "# plt.close()"
   ]
  }
 ],
 "metadata": {
  "kernelspec": {
   "display_name": "Python 3",
   "language": "python",
   "name": "python3"
  },
  "language_info": {
   "codemirror_mode": {
    "name": "ipython",
    "version": 3
   },
   "file_extension": ".py",
   "mimetype": "text/x-python",
   "name": "python",
   "nbconvert_exporter": "python",
   "pygments_lexer": "ipython3",
   "version": "3.6.4"
  }
 },
 "nbformat": 4,
 "nbformat_minor": 2
}
