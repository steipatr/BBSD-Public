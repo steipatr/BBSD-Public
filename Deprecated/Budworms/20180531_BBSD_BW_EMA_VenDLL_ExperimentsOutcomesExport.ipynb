{
 "cells": [
  {
   "cell_type": "code",
   "execution_count": null,
   "metadata": {},
   "outputs": [
    {
     "name": "stderr",
     "output_type": "stream",
     "text": [
      "C:\\Users\\Patrick\\Anaconda3\\lib\\site-packages\\ema_workbench\\em_framework\\optimization.py:29: ImportWarning: platypus based optimization not available\n",
      "  warnings.warn(\"platypus based optimization not available\", ImportWarning)\n"
     ]
    }
   ],
   "source": [
    "#import ALL THE THINGS\n",
    "\n",
    "import numpy as np\n",
    "import scipy as sp\n",
    "import pandas as pd\n",
    "import matplotlib.pyplot as plt\n",
    "import os\n",
    "import feather\n",
    "import datetime\n",
    "\n",
    "from ema_workbench import (Model, \n",
    "                           RealParameter, \n",
    "                           Constant,\n",
    "                           TimeSeriesOutcome,\n",
    "                           perform_experiments, \n",
    "                           ema_logging, \n",
    "                           save_results,\n",
    "                           perform_experiments, \n",
    "                           ema_logging)\n",
    "\n",
    "#from ema_workbench.em_framework import samplers\n",
    "\n",
    "from ema_workbench.connectors.vensim import VensimModel\n",
    "\n",
    "#from ema_workbench.em_framework.evaluators import LHS, MC\n",
    "\n",
    "import ema_workbench.analysis.pairs_plotting as pairs\n",
    "import ema_workbench.analysis.plotting as emaplt\n",
    "\n",
    "# turn on logging\n",
    "ema_logging.log_to_stderr(ema_logging.INFO)"
   ]
  },
  {
   "cell_type": "code",
   "execution_count": null,
   "metadata": {},
   "outputs": [],
   "source": [
    "def export_outcomes(outcomes, location = './Data/' ):\n",
    "    \"\"\"takes EMA outcomes and exports all time series for each outcome of interest as a .feather dataframe for easy\n",
    "    import into R. Arguments: export_outcomes(name of EMA outcomes dict, desired save location). Save location must exist,\n",
    "    defaults to './Data/'.\n",
    "    \n",
    "    \"\"\"\n",
    "     \n",
    "    today = datetime.date.today()\n",
    "    datestr = (str(today))  \n",
    "    \n",
    "    keylist = list(outcomes.keys())\n",
    "    \n",
    "    for k in keylist:\n",
    "        df_temp = pd.DataFrame(outcomes[k])\n",
    "        df_temp = df_temp.copy()\n",
    "        path = location + datestr + k.replace(' ','') + '.feather'\n",
    "        feather.write_dataframe(df_temp,path)\n",
    "\n",
    "    return(\"Done.\");"
   ]
  },
  {
   "cell_type": "markdown",
   "metadata": {},
   "source": [
    "## Values and response surface for r, k\n",
    "<img src=\"StrogatzBudworms_rk_combined.PNG\" alt=\"r, k from Strogatz\" style=\"width: 700px;\"/>"
   ]
  },
  {
   "cell_type": "code",
   "execution_count": null,
   "metadata": {},
   "outputs": [],
   "source": [
    "#define experiment parameters\n",
    "uncertainties = [\n",
    "                #RealParameter('k', 2,30), #dimensionless carrying capacity for budworms #fixed for now TODO\n",
    "                RealParameter('r max',0.4,0.41), #initial r value\n",
    "                RealParameter('drift',0.3,0.35) #amount by which r is reduced at time \"step time\"\n",
    "            ]\n",
    "\n",
    "outcomes =  [\n",
    "                TimeSeriesOutcome('x'), #budworm population\n",
    "                TimeSeriesOutcome('c'), #budworm creation\n",
    "                TimeSeriesOutcome('p') #budworm predation/loss\n",
    "            ]\n",
    "\n",
    "constants = [\n",
    "                Constant('xi', 2), #initial budworm population\n",
    "                Constant('k', 10), #dimensionless carrying capacity for budworms\n",
    "                Constant('use rsin',1), #use step function for r instead of constant base value\n",
    "                Constant('r base val',0.4), #constant base value for r\n",
    "                \n",
    "                Constant('drift time',40), #fixed time at which drift of r sets in, has no effect on system behavior\n",
    "                Constant('drift duration',20) #time it takes r to drift from max to min\n",
    "                \n",
    "            ]"
   ]
  },
  {
   "cell_type": "code",
   "execution_count": null,
   "metadata": {},
   "outputs": [],
   "source": [
    "wd = r'./'\n",
    "model = VensimModel(\"StrogatzBudworms\", wd=wd, model_file=r'201805310123_BBSD_BW_StrogatzBudworms_rk_rsinsweep.vpm')\n",
    "\n",
    "model.uncertainties = uncertainties\n",
    "model.outcomes = outcomes\n",
    "model.constants = constants"
   ]
  },
  {
   "cell_type": "code",
   "execution_count": null,
   "metadata": {
    "scrolled": false
   },
   "outputs": [],
   "source": [
    "\n",
    "#run experiments\n",
    "#TODO parallel\n",
    "results = perform_experiments(model, 200)\n",
    "\n",
    "experiments, outcomes = results"
   ]
  },
  {
   "cell_type": "code",
   "execution_count": null,
   "metadata": {},
   "outputs": [],
   "source": [
    "figure = emaplt.lines(results,density=u'kde') #show lines, and end state density\n",
    "plt.rcParams[\"figure.figsize\"] = (18,10)\n",
    "plt.show() #show figure"
   ]
  },
  {
   "cell_type": "code",
   "execution_count": null,
   "metadata": {},
   "outputs": [],
   "source": [
    "#experiments, outcomes = results\n",
    "#print(experiments) #<class 'numpy.ndarray'>\n",
    "#print(type(experiments.item(2))) #<class 'tuple'>\n",
    "\n",
    "#experiments is an array of tuples, where each tuple is one experiment input set"
   ]
  },
  {
   "cell_type": "code",
   "execution_count": null,
   "metadata": {
    "scrolled": true
   },
   "outputs": [],
   "source": [
    "#print(type(outcomes)) #<class 'dict'>\n",
    "#print(type(outcomes['Deceased Population'])) #<class 'numpy.ndarray'>\n",
    "#print(type(outcomes['Deceased Population'][1])) #<class 'numpy.ndarray'>\n",
    "#print(type(outcomes['Deceased Population'][1].item(1))) #<class 'float'>\n",
    "\n",
    "\n",
    "'''outcomes is a dict of output variables (key) and output value arrays (value), where each output value array has\n",
    "the shape (number of runs) * (run duration / time step = total steps). Each run (or row) is an array of floats,\n",
    "where each row is the time series output of a specific simulation run for the associated variable, and each float\n",
    "is the value of that variable at a specific step or time in the simulation run.'''\n"
   ]
  },
  {
   "cell_type": "code",
   "execution_count": null,
   "metadata": {},
   "outputs": [],
   "source": [
    "export_outcomes(outcomes)"
   ]
  },
  {
   "cell_type": "code",
   "execution_count": null,
   "metadata": {},
   "outputs": [],
   "source": [
    "print(experiments)"
   ]
  },
  {
   "cell_type": "code",
   "execution_count": null,
   "metadata": {},
   "outputs": [],
   "source": [
    "df_expt = pd.DataFrame(experiments)\n",
    "df_expt = df_expt.copy()\n",
    "df_expt.iloc[:,0:2].head()"
   ]
  },
  {
   "cell_type": "code",
   "execution_count": null,
   "metadata": {},
   "outputs": [],
   "source": [
    "import datetime\n",
    "df_expt = pd.DataFrame(experiments) #convert experiments (array of tuples) into df\n",
    "df_expt = df_expt.copy() #self-copy to circumvent errors\n",
    "path = \"./Data/\" + str(datetime.date.today()) + \"Experiments\" + '.feather' #create path for saving\n",
    "feather.write_dataframe(df_expt.iloc[:,0:2],path) #feather it!"
   ]
  },
  {
   "cell_type": "code",
   "execution_count": null,
   "metadata": {},
   "outputs": [],
   "source": []
  }
 ],
 "metadata": {
  "kernelspec": {
   "display_name": "Python 3",
   "language": "python",
   "name": "python3"
  },
  "language_info": {
   "codemirror_mode": {
    "name": "ipython",
    "version": 3
   },
   "file_extension": ".py",
   "mimetype": "text/x-python",
   "name": "python",
   "nbconvert_exporter": "python",
   "pygments_lexer": "ipython3",
   "version": "3.6.4"
  }
 },
 "nbformat": 4,
 "nbformat_minor": 2
}
