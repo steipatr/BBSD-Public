{
 "cells": [
  {
   "cell_type": "code",
   "execution_count": 1,
   "metadata": {},
   "outputs": [
    {
     "name": "stderr",
     "output_type": "stream",
     "text": [
      "C:\\Users\\Patrick\\Anaconda3\\lib\\site-packages\\ema_workbench\\em_framework\\optimization.py:29: ImportWarning: platypus based optimization not available\n",
      "  warnings.warn(\"platypus based optimization not available\", ImportWarning)\n",
      "C:\\Users\\Patrick\\Anaconda3\\lib\\importlib\\_bootstrap.py:219: ImportWarning: can't resolve package from __spec__ or __package__, falling back on __name__ and __path__\n",
      "  return f(*args, **kwds)\n"
     ]
    }
   ],
   "source": [
    "#imports\n",
    "import numpy as np\n",
    "import scipy as sp\n",
    "import pandas as pd\n",
    "import matplotlib.pyplot as plt\n",
    "import os\n",
    "import feather\n",
    "import datetime\n",
    "\n",
    "from  ema_workbench.analysis  import prim\n",
    "from ema_workbench import (load_results, ema_logging)\n",
    "ema_logging.log_to_stderr(ema_logging.INFO)\n",
    "\n",
    "from IPython.core import display as ICD\n",
    "import mpld3\n",
    "%matplotlib notebook"
   ]
  },
  {
   "cell_type": "code",
   "execution_count": 3,
   "metadata": {},
   "outputs": [],
   "source": [
    "#load previously generated data with feather, and reshape to fit EMA expectations\n",
    "#outcomes\n",
    "x_path = r'C:\\Users\\Patrick\\Documents\\GitHub\\BBSD\\Brusselator\\Data\\2018-07-09y.feather'\n",
    "df_ts = feather.read_dataframe(x_path)\n",
    "nd_ts = df_ts.values\n",
    "outcomes = {\"x\":nd_ts}\n",
    "\n",
    "#experiments\n",
    "expts_path = r'C:\\Users\\Patrick\\Documents\\GitHub\\BBSD\\Brusselator\\Data\\2018-07-09Experiments.feather'\n",
    "df_expts = feather.read_dataframe(expts_path)\n",
    "\n",
    "experiments = np.empty([100,],dtype=[('b0', '<f8'), ('a', '<f8'), ('scenario_id', 'O'), ('policy', 'O'), ('model', 'O')])\n",
    "\n",
    "for r in range(0,experiments.shape[0]):\n",
    "    experiments[r]=(df_expts.iloc[r,0], df_expts.iloc[r,1], r, \"None\", \"StrogatzBrusselator\" )\n",
    "\n",
    "#re-create results\n",
    "\n",
    "results = (experiments,outcomes)"
   ]
  },
  {
   "cell_type": "code",
   "execution_count": 4,
   "metadata": {},
   "outputs": [
    {
     "data": {
      "text/plain": [
       "array([[0.5       , 0.55519712, 0.60592175, ..., 2.01248789, 2.01335907,\n",
       "        2.01415491],\n",
       "       [0.5       , 0.6200152 , 0.7122612 , ..., 3.17016602, 3.20285726,\n",
       "        3.23552275],\n",
       "       [0.5       , 0.64663815, 0.77000016, ..., 0.84190673, 0.89989281,\n",
       "        0.98093122],\n",
       "       [0.5       , 0.64638114, 0.78930497, ..., 1.54641449, 1.54641449,\n",
       "        1.54641449]])"
      ]
     },
     "execution_count": 4,
     "metadata": {},
     "output_type": "execute_result"
    }
   ],
   "source": [
    "#test outcomes\n",
    "outcomes[\"x\"][1:5]"
   ]
  },
  {
   "cell_type": "code",
   "execution_count": 5,
   "metadata": {},
   "outputs": [
    {
     "data": {
      "text/plain": [
       "array([(0.58703632, 1.17549461, 1, 'None', 'StrogatzBrusselator'),\n",
       "       (0.3904563 , 2.45930358, 2, 'None', 'StrogatzBrusselator'),\n",
       "       (0.92639141, 2.84947352, 3, 'None', 'StrogatzBrusselator'),\n",
       "       (1.69672394, 2.6238401 , 4, 'None', 'StrogatzBrusselator')],\n",
       "      dtype=[('b0', '<f8'), ('a', '<f8'), ('scenario_id', 'O'), ('policy', 'O'), ('model', 'O')])"
      ]
     },
     "execution_count": 5,
     "metadata": {},
     "output_type": "execute_result"
    }
   ],
   "source": [
    "#test experiments\n",
    "experiments[1:5]"
   ]
  },
  {
   "cell_type": "code",
   "execution_count": 7,
   "metadata": {},
   "outputs": [
    {
     "data": {
      "text/html": [
       "<div>\n",
       "<style scoped>\n",
       "    .dataframe tbody tr th:only-of-type {\n",
       "        vertical-align: middle;\n",
       "    }\n",
       "\n",
       "    .dataframe tbody tr th {\n",
       "        vertical-align: top;\n",
       "    }\n",
       "\n",
       "    .dataframe thead th {\n",
       "        text-align: right;\n",
       "    }\n",
       "</style>\n",
       "<table border=\"1\" class=\"dataframe\">\n",
       "  <thead>\n",
       "    <tr style=\"text-align: right;\">\n",
       "      <th></th>\n",
       "      <th>DWT</th>\n",
       "      <th>truecl</th>\n",
       "    </tr>\n",
       "  </thead>\n",
       "  <tbody>\n",
       "    <tr>\n",
       "      <th>0</th>\n",
       "      <td>1</td>\n",
       "      <td>1</td>\n",
       "    </tr>\n",
       "    <tr>\n",
       "      <th>1</th>\n",
       "      <td>1</td>\n",
       "      <td>1</td>\n",
       "    </tr>\n",
       "    <tr>\n",
       "      <th>2</th>\n",
       "      <td>2</td>\n",
       "      <td>2</td>\n",
       "    </tr>\n",
       "    <tr>\n",
       "      <th>3</th>\n",
       "      <td>1</td>\n",
       "      <td>2</td>\n",
       "    </tr>\n",
       "    <tr>\n",
       "      <th>4</th>\n",
       "      <td>1</td>\n",
       "      <td>1</td>\n",
       "    </tr>\n",
       "  </tbody>\n",
       "</table>\n",
       "</div>"
      ],
      "text/plain": [
       "   DWT  truecl\n",
       "0    1       1\n",
       "1    1       1\n",
       "2    2       2\n",
       "3    1       2\n",
       "4    1       1"
      ]
     },
     "execution_count": 7,
     "metadata": {},
     "output_type": "execute_result"
    }
   ],
   "source": [
    "#import clustering solutions from R via Feather\n",
    "clsol_path = r'C:\\Users\\Patrick\\Documents\\GitHub\\BBSD\\Brusselator\\Data\\2018-07-09DWT_True.feather'\n",
    "df_clsol = feather.read_dataframe(clsol_path)\n",
    "df_clsol.head()"
   ]
  },
  {
   "cell_type": "code",
   "execution_count": 10,
   "metadata": {},
   "outputs": [
    {
     "data": {
      "text/html": [
       "<div>\n",
       "<style scoped>\n",
       "    .dataframe tbody tr th:only-of-type {\n",
       "        vertical-align: middle;\n",
       "    }\n",
       "\n",
       "    .dataframe tbody tr th {\n",
       "        vertical-align: top;\n",
       "    }\n",
       "\n",
       "    .dataframe thead th {\n",
       "        text-align: right;\n",
       "    }\n",
       "</style>\n",
       "<table border=\"1\" class=\"dataframe\">\n",
       "  <thead>\n",
       "    <tr style=\"text-align: right;\">\n",
       "      <th></th>\n",
       "      <th>DWT</th>\n",
       "      <th>truecl</th>\n",
       "      <th>bin</th>\n",
       "    </tr>\n",
       "  </thead>\n",
       "  <tbody>\n",
       "    <tr>\n",
       "      <th>0</th>\n",
       "      <td>1</td>\n",
       "      <td>1</td>\n",
       "      <td>1</td>\n",
       "    </tr>\n",
       "    <tr>\n",
       "      <th>1</th>\n",
       "      <td>1</td>\n",
       "      <td>1</td>\n",
       "      <td>1</td>\n",
       "    </tr>\n",
       "    <tr>\n",
       "      <th>2</th>\n",
       "      <td>2</td>\n",
       "      <td>2</td>\n",
       "      <td>0</td>\n",
       "    </tr>\n",
       "    <tr>\n",
       "      <th>3</th>\n",
       "      <td>1</td>\n",
       "      <td>2</td>\n",
       "      <td>1</td>\n",
       "    </tr>\n",
       "    <tr>\n",
       "      <th>4</th>\n",
       "      <td>1</td>\n",
       "      <td>1</td>\n",
       "      <td>1</td>\n",
       "    </tr>\n",
       "  </tbody>\n",
       "</table>\n",
       "</div>"
      ],
      "text/plain": [
       "   DWT  truecl  bin\n",
       "0    1       1    1\n",
       "1    1       1    1\n",
       "2    2       2    0\n",
       "3    1       2    1\n",
       "4    1       1    1"
      ]
     },
     "execution_count": 10,
     "metadata": {},
     "output_type": "execute_result"
    }
   ],
   "source": [
    "#add binary column for PRIM\n",
    "coloi = \"DWT\" #column of interest\n",
    "df_clsol['bin'] = np.where(df_clsol[coloi]==1, 1, 0)\n",
    "df_clsol.head()"
   ]
  },
  {
   "cell_type": "code",
   "execution_count": 16,
   "metadata": {},
   "outputs": [
    {
     "name": "stderr",
     "output_type": "stream",
     "text": [
      "[MainProcess/INFO] 100 points remaining, containing 34 cases of interest\n",
      "[MainProcess/INFO] mean: 1.0, mass: 0.27, coverage: 0.7941176470588235, density: 1.0 restricted_dimensions: 2\n"
     ]
    },
    {
     "data": {
      "image/png": "[encoded data removed]",
      "text/plain": [
       "<matplotlib.figure.Figure at 0xd6dfdb0>"
      ]
     },
     "metadata": {},
     "output_type": "display_data"
    }
   ],
   "source": [
    "prim_alg = prim.Prim(experiments, np.where(df_clsol[\"DWT\"]==2, 1, 0), threshold=0.8) #rotate through for DWT=1 or 2\n",
    "box1 = prim_alg.find_box()\n",
    "\n",
    "box1.show_tradeoff()\n",
    "plt.show()"
   ]
  },
  {
   "cell_type": "code",
   "execution_count": 21,
   "metadata": {},
   "outputs": [
    {
     "name": "stdout",
     "output_type": "stream",
     "text": [
      "coverage    0.852941\n",
      "density     0.878788\n",
      "mass            0.33\n",
      "mean        0.878788\n",
      "res dim            2\n",
      "Name: 19, dtype: object\n",
      "\n",
      "      box 19                                   \n",
      "         min       max                qp values\n",
      "b0  0.212119  1.114433  [8.031601545316985e-06]\n",
      "a   2.410354  4.987367  [0.0002975846392265083]\n",
      "\n"
     ]
    },
    {
     "data": {
      "image/png": "[encoded data removed]",
      "text/plain": [
       "<matplotlib.figure.Figure at 0xd5ca690>"
      ]
     },
     "metadata": {},
     "output_type": "display_data"
    },
    {
     "data": {
      "image/png": "[encoded data removed]",
      "text/plain": [
       "<matplotlib.figure.Figure at 0xd667190>"
      ]
     },
     "metadata": {},
     "output_type": "display_data"
    }
   ],
   "source": [
    "top_box = 19\n",
    "\n",
    "box1.inspect(top_box)\n",
    "box1.inspect(top_box, style='graph')\n",
    "\n",
    "box1.select(top_box)\n",
    "fig = box1.show_pairs_scatter()\n",
    "fig.set_size_inches((8,8))\n",
    "plt.show()\n",
    "plt.close()"
   ]
  },
  {
   "cell_type": "code",
   "execution_count": null,
   "metadata": {},
   "outputs": [],
   "source": []
  }
 ],
 "metadata": {
  "kernelspec": {
   "display_name": "Python 3",
   "language": "python",
   "name": "python3"
  },
  "language_info": {
   "codemirror_mode": {
    "name": "ipython",
    "version": 3
   },
   "file_extension": ".py",
   "mimetype": "text/x-python",
   "name": "python",
   "nbconvert_exporter": "python",
   "pygments_lexer": "ipython3",
   "version": "3.6.4"
  }
 },
 "nbformat": 4,
 "nbformat_minor": 2
}
