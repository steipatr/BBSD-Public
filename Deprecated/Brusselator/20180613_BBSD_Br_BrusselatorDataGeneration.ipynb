{
 "cells": [
  {
   "cell_type": "code",
   "execution_count": null,
   "metadata": {},
   "outputs": [],
   "source": [
    "#import ALL THE THINGS\n",
    "\n",
    "import numpy as np\n",
    "import scipy as sp\n",
    "import pandas as pd\n",
    "import matplotlib.pyplot as plt\n",
    "import os\n",
    "import feather\n",
    "import datetime\n",
    "\n",
    "from ema_workbench import (Model, \n",
    "                           RealParameter, \n",
    "                           Constant,\n",
    "                           TimeSeriesOutcome,\n",
    "                           perform_experiments, \n",
    "                           ema_logging, \n",
    "                           save_results,\n",
    "                           perform_experiments, \n",
    "                           ema_logging)\n",
    "\n",
    "#from ema_workbench.em_framework import samplers\n",
    "\n",
    "from ema_workbench.connectors.vensim import VensimModel\n",
    "\n",
    "#from ema_workbench.em_framework.evaluators import LHS, MC\n",
    "\n",
    "import ema_workbench.analysis.pairs_plotting as pairs\n",
    "import ema_workbench.analysis.plotting as emaplt\n",
    "\n",
    "# turn on logging\n",
    "ema_logging.log_to_stderr(ema_logging.INFO)"
   ]
  },
  {
   "cell_type": "code",
   "execution_count": null,
   "metadata": {},
   "outputs": [],
   "source": [
    "#define experiment parameters\n",
    "uncertainties = [\n",
    "                RealParameter('a',1,3), \n",
    "                RealParameter('b',1.5,4) \n",
    "            ]\n",
    "\n",
    "outcomes =  [\n",
    "                TimeSeriesOutcome('x'), \n",
    "                TimeSeriesOutcome('y'),\n",
    "                TimeSeriesOutcome('xin'),\n",
    "                TimeSeriesOutcome('yin')\n",
    "            ]\n",
    "\n",
    "constants = [\n",
    "                Constant('x0', 0.5),\n",
    "                Constant('y0', 0.5)\n",
    "            ]"
   ]
  },
  {
   "cell_type": "code",
   "execution_count": null,
   "metadata": {},
   "outputs": [],
   "source": [
    "wd = r'./'\n",
    "model = VensimModel(\"Brusselator\", wd=wd, model_file=r'201806140107_BBSD_Br_StrogatzBrusselator.vpm')\n",
    "\n",
    "model.uncertainties = uncertainties\n",
    "model.outcomes = outcomes\n",
    "model.constants = constants"
   ]
  },
  {
   "cell_type": "code",
   "execution_count": null,
   "metadata": {},
   "outputs": [],
   "source": [
    "results = perform_experiments(model, 1000)\n",
    "\n",
    "experiments, outcomes = results"
   ]
  },
  {
   "cell_type": "code",
   "execution_count": null,
   "metadata": {},
   "outputs": [],
   "source": [
    "figure = emaplt.lines(results,density=u'kde') #show lines, and end state density\n",
    "plt.rcParams[\"figure.figsize\"] = (10,20)\n",
    "plt.show() #show figure"
   ]
  },
  {
   "cell_type": "code",
   "execution_count": null,
   "metadata": {},
   "outputs": [],
   "source": [
    "experiments"
   ]
  },
  {
   "cell_type": "code",
   "execution_count": null,
   "metadata": {},
   "outputs": [],
   "source": [
    "import datetime\n",
    "df_expt = pd.DataFrame(experiments) #convert experiments (array of tuples) into df\n",
    "df_expt = df_expt.copy() #self-copy to circumvent errors\n",
    "path = \"./Data/\" + str(datetime.date.today()) + \"Experiments\" + '.feather' #create path for saving\n",
    "feather.write_dataframe(df_expt.iloc[:,0:2],path) #feather it!"
   ]
  },
  {
   "cell_type": "code",
   "execution_count": null,
   "metadata": {},
   "outputs": [],
   "source": [
    "def export_outcomes(outcomes, location = './Data/' ):\n",
    "    \"\"\"takes EMA outcomes and exports all time series for each outcome of interest as a .feather dataframe for easy\n",
    "    import into R. Arguments: export_outcomes(name of EMA outcomes dict, desired save location). Save location must exist,\n",
    "    defaults to './Data/'.\n",
    "    \n",
    "    \"\"\"\n",
    "     \n",
    "    today = datetime.date.today()\n",
    "    datestr = (str(today))  \n",
    "    \n",
    "    keylist = list(outcomes.keys())\n",
    "    \n",
    "    for k in keylist:\n",
    "        df_temp = pd.DataFrame(outcomes[k])\n",
    "        df_temp = df_temp.copy()\n",
    "        path = location + datestr + k.replace(' ','') + '.feather'\n",
    "        feather.write_dataframe(df_temp,path)\n",
    "\n",
    "    return(\"Done.\");"
   ]
  },
  {
   "cell_type": "code",
   "execution_count": null,
   "metadata": {},
   "outputs": [],
   "source": [
    "export_outcomes(outcomes)"
   ]
  }
 ],
 "metadata": {
  "kernelspec": {
   "display_name": "Python 3",
   "language": "python",
   "name": "python3"
  },
  "language_info": {
   "codemirror_mode": {
    "name": "ipython",
    "version": 3
   },
   "file_extension": ".py",
   "mimetype": "text/x-python",
   "name": "python",
   "nbconvert_exporter": "python",
   "pygments_lexer": "ipython3",
   "version": "3.6.4"
  }
 },
 "nbformat": 4,
 "nbformat_minor": 2
}
