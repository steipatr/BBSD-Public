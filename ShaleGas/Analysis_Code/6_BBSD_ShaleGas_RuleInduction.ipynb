{
 "cells": [
  {
   "cell_type": "code",
   "execution_count": null,
   "metadata": {},
   "outputs": [],
   "source": [
    "#imports\n",
    "import numpy as np\n",
    "import scipy as sp\n",
    "import pandas as pd\n",
    "import matplotlib.pyplot as plt\n",
    "import os\n",
    "import feather\n",
    "import datetime\n",
    "\n",
    "from  ema_workbench.analysis  import prim\n",
    "from ema_workbench import util\n",
    "from ema_workbench import (load_results, ema_logging)\n",
    "ema_logging.log_to_stderr(ema_logging.INFO)\n",
    "\n",
    "from IPython.core import display as ICD\n",
    "import mpld3\n",
    "%matplotlib notebook"
   ]
  },
  {
   "cell_type": "code",
   "execution_count": null,
   "metadata": {},
   "outputs": [],
   "source": [
    "#load experiment data from tar dataf file\n",
    "print(\"loading results...\")\n",
    "file_name = r'..\\Data\\Results 2000 climate_policies_v3_1.tar.gz'\n",
    "results = util.load_results(file_name)\n",
    "experiments,outcomes=results\n",
    "print(\"results loaded.\")"
   ]
  },
  {
   "cell_type": "code",
   "execution_count": null,
   "metadata": {},
   "outputs": [],
   "source": [
    "#import previously generated clustering solution(s) from R via Feather\n",
    "clsol_path = r'..\\Data\\2018-08-29CID.feather'\n",
    "df_clsol = feather.read_dataframe(clsol_path)\n",
    "df_clsol.head()"
   ]
  },
  {
   "cell_type": "code",
   "execution_count": null,
   "metadata": {},
   "outputs": [],
   "source": [
    "#run PRIM for every clustering method and cluster ID to find subspace rules\n",
    "prim_alg = prim.Prim(experiments, np.where(df_clsol[\"CID\"]==3, 1, 0), threshold=0.5)\n",
    "box1 = prim_alg.find_box()\n",
    "\n",
    "box1.show_tradeoff()\n",
    "plt.show()"
   ]
  },
  {
   "cell_type": "code",
   "execution_count": null,
   "metadata": {},
   "outputs": [],
   "source": [
    "top_box = 25\n",
    "\n",
    "box1.inspect(top_box)\n",
    "box1.inspect(top_box, style='graph')\n",
    "\n",
    "box1.select(top_box)\n",
    "fig = box1.show_pairs_scatter()\n",
    "fig.set_size_inches((8,8))\n",
    "plt.show()\n",
    "plt.close()"
   ]
  }
 ],
 "metadata": {
  "kernelspec": {
   "display_name": "Python 3",
   "language": "python",
   "name": "python3"
  },
  "language_info": {
   "codemirror_mode": {
    "name": "ipython",
    "version": 3
   },
   "file_extension": ".py",
   "mimetype": "text/x-python",
   "name": "python",
   "nbconvert_exporter": "python",
   "pygments_lexer": "ipython3",
   "version": "3.6.4"
  }
 },
 "nbformat": 4,
 "nbformat_minor": 2
}
