{
 "cells": [
  {
   "cell_type": "code",
   "execution_count": null,
   "metadata": {},
   "outputs": [],
   "source": [
    "import matplotlib.pyplot as plt\n",
    "import numpy as np\n",
    "import datetime\n",
    "import pandas as pd\n",
    "\n",
    "from ema_workbench import util\n",
    "\n",
    "import ema_workbench.analysis.plotting as emaplt\n",
    "\n",
    "import feather\n",
    "\n",
    "%matplotlib inline"
   ]
  },
  {
   "cell_type": "code",
   "execution_count": null,
   "metadata": {},
   "outputs": [],
   "source": [
    "print(\"loading results...\")\n",
    "file_name = r'..\\Data\\Results 2000 climate_policies_v3_1.tar.gz'\n",
    "results = util.load_results(file_name)\n",
    "print(\"results loaded.\")"
   ]
  },
  {
   "cell_type": "code",
   "execution_count": null,
   "metadata": {
    "scrolled": true
   },
   "outputs": [],
   "source": [
    "experiments, outcomes = results"
   ]
  },
  {
   "cell_type": "code",
   "execution_count": null,
   "metadata": {},
   "outputs": [],
   "source": [
    "def export_outcomes(outcomes, location = '../Data/' ):\n",
    "    \"\"\"takes EMA outcomes and exports all time series for each outcome of interest as a .feather dataframe for easy\n",
    "    import into R. Arguments: export_outcomes(name of EMA outcomes dict, desired save location). Save location must exist,\n",
    "    defaults to './Data/'.\n",
    "    \n",
    "    \"\"\"\n",
    "     \n",
    "    today = datetime.date.today()\n",
    "    datestr = (str(today))  \n",
    "    \n",
    "    keylist = list(outcomes.keys())\n",
    "    \n",
    "    for k in keylist:\n",
    "        df_temp = pd.DataFrame(outcomes[k])\n",
    "        df_temp = df_temp.copy()\n",
    "        path = location + datestr + k.replace(' ','') + '.feather'\n",
    "        feather.write_dataframe(df_temp,path)\n",
    "\n",
    "    return(\"Done.\");"
   ]
  },
  {
   "cell_type": "code",
   "execution_count": null,
   "metadata": {},
   "outputs": [],
   "source": [
    "export_outcomes(outcomes)"
   ]
  },
  {
   "cell_type": "code",
   "execution_count": null,
   "metadata": {},
   "outputs": [],
   "source": [
    "import datetime\n",
    "df_expt = pd.DataFrame(experiments) #create dataframe from experiments (array of tuples)\n",
    "df_expt2 = df_expt.iloc[:,0:118].astype(\"float\")\n",
    "df_expt2 = df_expt2.copy() #self-copy to circumvent errors\n",
    "path = \"../Data/\" + str(datetime.date.today()) + \"Experiments\" + '.feather' #create path for saving\n",
    "feather.write_dataframe(df_expt2,path) #feather it!"
   ]
  }
 ],
 "metadata": {
  "kernelspec": {
   "display_name": "Python 3",
   "language": "python",
   "name": "python3"
  },
  "language_info": {
   "codemirror_mode": {
    "name": "ipython",
    "version": 3
   },
   "file_extension": ".py",
   "mimetype": "text/x-python",
   "name": "python",
   "nbconvert_exporter": "python",
   "pygments_lexer": "ipython3",
   "version": "3.6.4"
  }
 },
 "nbformat": 4,
 "nbformat_minor": 1
}
