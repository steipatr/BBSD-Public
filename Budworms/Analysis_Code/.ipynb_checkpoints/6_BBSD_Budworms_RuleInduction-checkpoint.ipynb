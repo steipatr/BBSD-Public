{
 "cells": [
  {
   "cell_type": "code",
   "execution_count": null,
   "metadata": {},
   "outputs": [],
   "source": [
    "#imports\n",
    "import numpy as np\n",
    "import scipy as sp\n",
    "import pandas as pd\n",
    "import matplotlib.pyplot as plt\n",
    "import os\n",
    "import feather\n",
    "import datetime\n",
    "\n",
    "from  ema_workbench.analysis  import prim\n",
    "from ema_workbench import (load_results, ema_logging)\n",
    "ema_logging.log_to_stderr(ema_logging.INFO)\n",
    "\n",
    "from IPython.core import display as ICD\n",
    "import mpld3\n",
    "%matplotlib notebook"
   ]
  },
  {
   "cell_type": "code",
   "execution_count": null,
   "metadata": {},
   "outputs": [],
   "source": [
    "#load previously generated data with feather, and reshape to fit EMA expectations\n",
    "#outcomes\n",
    "x_path = r'..\\Data\\2018-08-29x.feather'\n",
    "df_ts = feather.read_dataframe(x_path)\n",
    "nd_ts = df_ts.values\n",
    "outcomes = {\"x\":nd_ts}\n",
    "\n",
    "#experiments\n",
    "expts_path = r'..\\Data\\2018-08-29Experiments.feather'\n",
    "df_expts = feather.read_dataframe(expts_path)\n",
    "\n",
    "experiments = np.empty([200,],dtype=[('r0', '<f8'), ('rstep', '<f8'), ('scenario_id', 'O'), ('policy', 'O'), ('model', 'O')])\n",
    "\n",
    "for r in range(0,experiments.shape[0]):\n",
    "    experiments[r]=(df_expts.iloc[r,0], df_expts.iloc[r,1], r, \"None\", \"StrogatzBudworms\" )\n",
    "\n",
    "#re-create results\n",
    "\n",
    "results = (experiments,outcomes)"
   ]
  },
  {
   "cell_type": "code",
   "execution_count": null,
   "metadata": {},
   "outputs": [],
   "source": [
    "#test outcomes\n",
    "outcomes[\"x\"][1:5]"
   ]
  },
  {
   "cell_type": "code",
   "execution_count": null,
   "metadata": {},
   "outputs": [],
   "source": [
    "#test experiments\n",
    "experiments[1:5]"
   ]
  },
  {
   "cell_type": "code",
   "execution_count": null,
   "metadata": {},
   "outputs": [],
   "source": [
    "#import clustering solutions from R via Feather\n",
    "clsol_path = r'..\\Data\\2018-08-29ACF_CID_DWT.feather'\n",
    "df_clsol = feather.read_dataframe(clsol_path)\n",
    "df_clsol.head(10)"
   ]
  },
  {
   "cell_type": "code",
   "execution_count": null,
   "metadata": {
    "scrolled": false
   },
   "outputs": [],
   "source": [
    "#for each method and cluster ID, perform PRIM to get box rules\n",
    "prim_alg = prim.Prim(experiments, np.where(df_clsol[\"CID\"]==1, 1, 0), threshold=0.5)\n",
    "box1 = prim_alg.find_box()\n",
    "\n",
    "box1.show_tradeoff()\n",
    "plt.show()"
   ]
  },
  {
   "cell_type": "code",
   "execution_count": null,
   "metadata": {},
   "outputs": [],
   "source": [
    "#manually copy rules for box of choice into R.\n",
    "top_box = 20\n",
    "\n",
    "box1.inspect(top_box)\n",
    "box1.inspect(top_box, style='graph')\n",
    "\n",
    "box1.select(top_box)\n",
    "fig = box1.show_pairs_scatter()\n",
    "fig.set_size_inches((8,8))\n",
    "plt.show()\n",
    "plt.close()"
   ]
  }
 ],
 "metadata": {
  "kernelspec": {
   "display_name": "Python 3",
   "language": "python",
   "name": "python3"
  },
  "language_info": {
   "codemirror_mode": {
    "name": "ipython",
    "version": 3
   },
   "file_extension": ".py",
   "mimetype": "text/x-python",
   "name": "python",
   "nbconvert_exporter": "python",
   "pygments_lexer": "ipython3",
   "version": "3.6.4"
  }
 },
 "nbformat": 4,
 "nbformat_minor": 2
}
