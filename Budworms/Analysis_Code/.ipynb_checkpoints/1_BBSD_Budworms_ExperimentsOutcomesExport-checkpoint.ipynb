{
 "cells": [
  {
   "cell_type": "code",
   "execution_count": null,
   "metadata": {},
   "outputs": [],
   "source": [
    "#import ALL THE THINGS\n",
    "\n",
    "import numpy as np\n",
    "import pandas as pd\n",
    "import os\n",
    "import feather\n",
    "import datetime\n",
    "\n",
    "from ema_workbench import (Model, \n",
    "                           RealParameter, \n",
    "                           Constant,\n",
    "                           TimeSeriesOutcome,\n",
    "                           perform_experiments, \n",
    "                           ema_logging, \n",
    "                           save_results,\n",
    "                           perform_experiments, \n",
    "                           ema_logging)\n",
    "\n",
    "from ema_workbench.connectors.vensim import VensimModel\n",
    "\n",
    "import ema_workbench.analysis.pairs_plotting as pairs\n",
    "import ema_workbench.analysis.plotting as emaplt\n",
    "\n",
    "import matplotlib.pyplot as plt\n",
    "\n",
    "# turn on logging\n",
    "ema_logging.log_to_stderr(ema_logging.INFO)"
   ]
  },
  {
   "cell_type": "code",
   "execution_count": null,
   "metadata": {},
   "outputs": [],
   "source": [
    "#function to easily save all outcomes of interest\n",
    "def export_outcomes(outcomes, location = '../Data/' ):\n",
    "    \"\"\"takes EMA outcomes and exports all time series for each outcome of interest as a .feather dataframe for easy\n",
    "    import into R. Arguments: export_outcomes(name of EMA outcomes dict, desired save location). Save location must exist,\n",
    "    defaults to './Data/'.\n",
    "    \n",
    "    \"\"\"\n",
    "     \n",
    "    today = datetime.date.today()\n",
    "    datestr = (str(today))  \n",
    "    \n",
    "    keylist = list(outcomes.keys())\n",
    "    \n",
    "    for k in keylist:\n",
    "        df_temp = pd.DataFrame(outcomes[k])\n",
    "        df_temp = df_temp.copy()\n",
    "        path = location + datestr + k.replace(' ','') + '.feather'\n",
    "        feather.write_dataframe(df_temp,path)\n",
    "\n",
    "    return(\"Done.\");"
   ]
  },
  {
   "cell_type": "code",
   "execution_count": null,
   "metadata": {},
   "outputs": [],
   "source": [
    "#define experiment inputs/outputs\n",
    "uncertainties = [\n",
    "                RealParameter('r0',0.45,0.7), #initial r value\n",
    "                RealParameter('rstep',0.1,0.4) #amount by which r is reduced at time \"step time\"\n",
    "            ]\n",
    "\n",
    "outcomes =  [\n",
    "                TimeSeriesOutcome('x'), #budworm population\n",
    "                TimeSeriesOutcome('c'), #budworm creation\n",
    "                TimeSeriesOutcome('p') #budworm predation/loss\n",
    "            ]\n",
    "\n",
    "constants = [\n",
    "                Constant('x0', 2), #initial budworm population\n",
    "                Constant('k', 10), #dimensionless carrying capacity for budworms                \n",
    "                Constant('tr',40) #fixed time at which drift of r sets in, has no effect on system behavior\n",
    "                \n",
    "            ]"
   ]
  },
  {
   "cell_type": "code",
   "execution_count": null,
   "metadata": {},
   "outputs": [],
   "source": [
    "#load model and assign inputs/outputs\n",
    "wd = r'..'\n",
    "model = VensimModel(\"StrogatzBudworms\", wd=wd, model_file=r'./Models/BBSD_StrogatzBudworms_rk_packaged.vpm')\n",
    "\n",
    "model.uncertainties = uncertainties\n",
    "model.outcomes = outcomes\n",
    "model.constants = constants"
   ]
  },
  {
   "cell_type": "code",
   "execution_count": null,
   "metadata": {
    "scrolled": false
   },
   "outputs": [],
   "source": [
    "#perform experiments\n",
    "results = perform_experiments(model, 200)\n",
    "\n",
    "experiments, outcomes = results"
   ]
  },
  {
   "cell_type": "code",
   "execution_count": null,
   "metadata": {},
   "outputs": [],
   "source": [
    "#plot results as lines\n",
    "figure = emaplt.lines(results,density=u'kde')\n",
    "plt.show() #show figure"
   ]
  },
  {
   "cell_type": "code",
   "execution_count": null,
   "metadata": {},
   "outputs": [],
   "source": [
    "export_outcomes(outcomes)"
   ]
  },
  {
   "cell_type": "code",
   "execution_count": null,
   "metadata": {},
   "outputs": [],
   "source": [
    "import datetime\n",
    "df_expt = pd.DataFrame(experiments) #create dataframe from experiments (array of tuples)\n",
    "df_expt = df_expt.copy() #self-copy to circumvent errors\n",
    "path = \"../Data/\" + str(datetime.date.today()) + \"Experiments\" + '.feather' #create path for saving\n",
    "feather.write_dataframe(df_expt.iloc[:,0:len(uncertainties)],path) #feather it!"
   ]
  }
 ],
 "metadata": {
  "kernelspec": {
   "display_name": "Python 3",
   "language": "python",
   "name": "python3"
  },
  "language_info": {
   "codemirror_mode": {
    "name": "ipython",
    "version": 3
   },
   "file_extension": ".py",
   "mimetype": "text/x-python",
   "name": "python",
   "nbconvert_exporter": "python",
   "pygments_lexer": "ipython3",
   "version": "3.6.4"
  }
 },
 "nbformat": 4,
 "nbformat_minor": 2
}
